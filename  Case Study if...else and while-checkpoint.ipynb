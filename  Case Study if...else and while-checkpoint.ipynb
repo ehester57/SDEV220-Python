{
 "cells": [
  {
   "cell_type": "code",
   "execution_count": 10,
   "id": "c46562f6",
   "metadata": {},
   "outputs": [],
   "source": [
    "# Eric Hester\n",
    "# M02 Lab - Case Study if...else and while\n",
    "# This program takes the name and GPA's of students and determines \n",
    "# whether they made the deans list, honor roll, or neither"
   ]
  },
  {
   "cell_type": "code",
   "execution_count": 12,
   "id": "10b8970f",
   "metadata": {},
   "outputs": [
    {
     "name": "stdout",
     "output_type": "stream",
     "text": [
      "Enter students first name: Eric\n",
      "Enter students last name: Hester\n",
      "Enter GPA as decimal: 3.37\n",
      "\n",
      "Eric Hester is on the Honor Roll.\n",
      "GPA: 3.37\n",
      "\n",
      "Enter students first name: Savannah\n",
      "Enter students last name: Burke\n",
      "Enter GPA as decimal: 3.9\n",
      "\n",
      "Savannah Burke is on the Dean's List.\n",
      "GPA: 3.9\n",
      "\n",
      "Enter students first name: Danny\n",
      "Enter students last name: Hester\n",
      "Enter GPA as decimal: 4.0\n",
      "\n",
      "Danny Hester is on the Dean's List.\n",
      "GPA: 4.0\n",
      "\n",
      "Enter students first name: Noah\n",
      "Enter students last name: Floof\n",
      "Enter GPA as decimal: 2.5\n",
      "\n",
      "Noah Floof is not eligable for the Dean's List or the Honor Roll.\n",
      "GPA: 2.5\n",
      "\n",
      "Press any key to continue or 'ZZZ' to quit\n",
      "Enter students first name: Effie\n",
      "Enter students last name: Fleeb\n",
      "Enter GPA as decimal: 1.0\n",
      "\n",
      "Effie Fleeb is not eligable for the Dean's List or the Honor Roll.\n",
      "GPA: 1.0\n",
      "\n",
      "Press any key to continue or 'ZZZ' to quitZZZ\n"
     ]
    }
   ],
   "source": [
    "quitInput = str()\n",
    "\n",
    "while quitInput != \"ZZZ\":\n",
    "    \n",
    "    f_name = str(input(\"Enter students first name: \"))\n",
    "    l_name = str(input(\"Enter students last name: \"))\n",
    "    gpa = float(input(\"Enter GPA as decimal: \"))\n",
    "    \n",
    "    print()\n",
    "    \n",
    "    if (gpa >= 3.5):\n",
    "        \n",
    "        print(f_name + \" \" + l_name + \" is on the Dean's List.\")\n",
    "        print(\"GPA: \" + str(gpa))\n",
    "        print()\n",
    "    \n",
    "    elif (gpa < 3.5 and gpa >= 3.25):\n",
    "        \n",
    "        print(f_name + \" \" + l_name + \" is on the Honor Roll.\")\n",
    "        print(\"GPA: \" + str(gpa))\n",
    "        print()\n",
    "    \n",
    "    else:\n",
    "        print(f_name + \" \" + l_name + \" is not eligable for the Dean's List or the Honor Roll.\")\n",
    "        print(\"GPA: \" + str(gpa))\n",
    "        print()\n",
    "        \n",
    "        quitInput = str(input(\"Press any key to continue or 'ZZZ' to quit\")).upper()\n",
    "        \n",
    "        \n",
    "    \n",
    "    "
   ]
  }
 ],
 "metadata": {
  "kernelspec": {
   "display_name": "Python 3 (ipykernel)",
   "language": "python",
   "name": "python3"
  },
  "language_info": {
   "codemirror_mode": {
    "name": "ipython",
    "version": 3
   },
   "file_extension": ".py",
   "mimetype": "text/x-python",
   "name": "python",
   "nbconvert_exporter": "python",
   "pygments_lexer": "ipython3",
   "version": "3.10.9"
  }
 },
 "nbformat": 4,
 "nbformat_minor": 5
}
