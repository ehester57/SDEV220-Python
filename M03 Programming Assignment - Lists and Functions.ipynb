{
 "cells": [
  {
   "cell_type": "code",
   "execution_count": 2,
   "id": "b4e2e3d5",
   "metadata": {},
   "outputs": [
    {
     "name": "stdout",
     "output_type": "stream",
     "text": [
      "Cinderella\n"
     ]
    }
   ],
   "source": [
    "# 7.4\n",
    "\n",
    "things = [\"mozerella\", \"cinderella\", \"salmonella\"]\n",
    "\n",
    "# 7.5\n",
    "\n",
    "things[1] = things[1].capitalize()\n",
    "print(things[1])"
   ]
  },
  {
   "cell_type": "code",
   "execution_count": 3,
   "id": "d14b57b6",
   "metadata": {},
   "outputs": [
    {
     "name": "stdout",
     "output_type": "stream",
     "text": [
      "MOZERELLA\n"
     ]
    }
   ],
   "source": [
    "# 7.6\n",
    "\n",
    "things[0] = things[0].upper()\n",
    "print(things[0])"
   ]
  },
  {
   "cell_type": "code",
   "execution_count": 4,
   "id": "477d1d2a",
   "metadata": {},
   "outputs": [
    {
     "name": "stdout",
     "output_type": "stream",
     "text": [
      "['MOZERELLA', 'Cinderella']\n"
     ]
    }
   ],
   "source": [
    "# 7.7\n",
    "\n",
    "things.pop()\n",
    "print(things)"
   ]
  },
  {
   "cell_type": "code",
   "execution_count": 6,
   "id": "c6b0cb27",
   "metadata": {},
   "outputs": [
    {
     "name": "stdout",
     "output_type": "stream",
     "text": [
      "['Harry', 'Ron', 'Hermione']\n"
     ]
    }
   ],
   "source": [
    "# 9.1\n",
    "\n",
    "def good():\n",
    "    return ['Harry', 'Ron', 'Hermione']\n",
    "\n",
    "print(good())"
   ]
  },
  {
   "cell_type": "code",
   "execution_count": 15,
   "id": "766b514e",
   "metadata": {},
   "outputs": [
    {
     "name": "stdout",
     "output_type": "stream",
     "text": [
      "The third odd number is: 5\n"
     ]
    }
   ],
   "source": [
    "# 9.2\n",
    "\n",
    "def get_odds():\n",
    "    for i in range(1, 10, 2):\n",
    "        yield i\n",
    "\n",
    "for index, number in enumerate(get_odds()):\n",
    "    if index == 2:\n",
    "        print(\"The third odd number is:\", number)\n",
    "        break\n",
    "\n"
   ]
  }
 ],
 "metadata": {
  "kernelspec": {
   "display_name": "Python 3 (ipykernel)",
   "language": "python",
   "name": "python3"
  },
  "language_info": {
   "codemirror_mode": {
    "name": "ipython",
    "version": 3
   },
   "file_extension": ".py",
   "mimetype": "text/x-python",
   "name": "python",
   "nbconvert_exporter": "python",
   "pygments_lexer": "ipython3",
   "version": "3.10.9"
  }
 },
 "nbformat": 4,
 "nbformat_minor": 5
}
